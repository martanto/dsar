{
 "cells": [
  {
   "cell_type": "code",
   "id": "initial_id",
   "metadata": {
    "collapsed": true,
    "ExecuteTime": {
     "end_time": "2024-04-15T15:30:03.450466Z",
     "start_time": "2024-04-15T15:30:03.424307Z"
    }
   },
   "source": [
    "from variables import *\n",
    "from utilities import fill_streams\n",
    "from dsar import DSAR\n",
    "from obspy.core import UTCDateTime"
   ],
   "outputs": [],
   "execution_count": 4
  },
  {
   "metadata": {
    "ExecuteTime": {
     "end_time": "2024-04-15T15:30:03.481922Z",
     "start_time": "2024-04-15T15:30:03.450466Z"
    }
   },
   "cell_type": "code",
   "source": [
    "dsars = {}\n",
    "def main():\n",
    "    bands: dict[str, list[float]] = {\n",
    "        'HF' : [0.1, 8.0, 16.0],\n",
    "        'LF' : [0.1, 4.5, 8.0],\n",
    "    }\n",
    "    \n",
    "    # ============================================\n",
    "    # Running DSAR per station\n",
    "    for station in stations:\n",
    "        dsars[station] = {}\n",
    "        \n",
    "        csv_files[station]: list[str] = []\n",
    "        \n",
    "        # Calculate DSAR per station per date\n",
    "        for date in dates:\n",
    "            date_string = date.strftime('%Y-%m-%d')\n",
    "            \n",
    "            # Save stream on a list of streams\n",
    "            streams[date_string]: Stream = fill_streams(client, station, date)\n",
    "            \n",
    "            # Make sure stream is not empty\n",
    "            if streams[date_string].count():\n",
    "                \n",
    "                # Run DSAR per day\n",
    "                dsars[station][date_string] = DSAR(streams[date_string], bands = bands, resample = resample_rule)\n",
    "                dsars[station][date_string].save()\n",
    "                \n",
    "        DSAR.concatenate_csv(dsar_directory, station, resample=resample_rule)\n",
    "                "
   ],
   "id": "5743ee86165c7fb4",
   "outputs": [],
   "execution_count": 5
  },
  {
   "metadata": {
    "ExecuteTime": {
     "end_time": "2024-04-15T15:30:12.380637Z",
     "start_time": "2024-04-15T15:30:03.481922Z"
    }
   },
   "cell_type": "code",
   "source": "main()",
   "id": "de95700e32358fc7",
   "outputs": [
    {
     "name": "stdout",
     "output_type": "stream",
     "text": [
      "⚠️ VG.PSAG.00.EHZ :: File(s) for date 2017-10-01 not found!\n",
      "⚠️ VG.PSAG.00.EHZ :: File(s) for date 2017-10-02 not found!\n",
      "⚠️ VG.PSAG.00.EHZ :: File(s) for date 2017-10-03 not found!\n",
      "⚠️ VG.PSAG.00.EHZ :: File(s) for date 2017-10-04 not found!\n",
      "⚠️ VG.PSAG.00.EHZ :: File(s) for date 2017-10-05 not found!\n",
      "⚠️ VG.PSAG.00.EHZ :: File(s) for date 2017-10-06 not found!\n",
      "⚠️ VG.PSAG.00.EHZ :: File(s) for date 2017-10-07 not found!\n",
      "⚠️ VG.PSAG.00.EHZ :: File(s) for date 2017-10-08 not found!\n",
      "⚠️ VG.PSAG.00.EHZ :: File(s) for date 2017-10-09 not found!\n",
      "⚠️ VG.PSAG.00.EHZ :: File(s) for date 2017-10-10 not found!\n",
      "⚠️ VG.PSAG.00.EHZ :: File(s) for date 2017-10-11 not found!\n",
      "⚠️ VG.PSAG.00.EHZ :: File(s) for date 2017-10-12 not found!\n",
      "⚠️ VG.PSAG.00.EHZ :: File(s) for date 2017-10-13 not found!\n",
      "⚠️ VG.PSAG.00.EHZ :: File(s) for date 2017-10-14 not found!\n",
      "⚠️ VG.PSAG.00.EHZ :: File(s) for date 2017-10-15 not found!\n",
      "⚠️ VG.PSAG.00.EHZ :: File(s) for date 2017-10-16 not found!\n",
      "⛔ VG.PSAG.00.EHZ :: File(s) for date 2017-10-17 INVALID!\n",
      "ℹ️ VG.PSAG.00.EHZ :: File(s) for date 2017-10-18 OK!\n",
      "⌚ Processing HF band\n",
      "⌚ Processing LF band\n",
      "💾 Saving to D:\\Projects\\dsar\\output\\dsar\\VG.PSAG.00.EHZ\\10min\\2017-10-18_VG.PSAG.00.EHZ.csv\n",
      "ℹ️ VG.PSAG.00.EHZ :: File(s) for date 2017-10-19 OK!\n",
      "⌚ Processing HF band\n",
      "⌚ Processing LF band\n",
      "💾 Saving to D:\\Projects\\dsar\\output\\dsar\\VG.PSAG.00.EHZ\\10min\\2017-10-19_VG.PSAG.00.EHZ.csv\n",
      "ℹ️ VG.PSAG.00.EHZ :: File(s) for date 2017-10-20 OK!\n",
      "⌚ Processing HF band\n",
      "⌚ Processing LF band\n",
      "💾 Saving to D:\\Projects\\dsar\\output\\dsar\\VG.PSAG.00.EHZ\\10min\\2017-10-20_VG.PSAG.00.EHZ.csv\n",
      "ℹ️ VG.PSAG.00.EHZ :: File(s) for date 2017-10-21 OK!\n",
      "⌚ Processing HF band\n",
      "⌚ Processing LF band\n",
      "💾 Saving to D:\\Projects\\dsar\\output\\dsar\\VG.PSAG.00.EHZ\\10min\\2017-10-21_VG.PSAG.00.EHZ.csv\n",
      "⚠️ VG.TMKS.00.EHZ :: File(s) for date 2017-10-01 not found!\n",
      "⚠️ VG.TMKS.00.EHZ :: File(s) for date 2017-10-02 not found!\n",
      "⚠️ VG.TMKS.00.EHZ :: File(s) for date 2017-10-03 not found!\n",
      "⚠️ VG.TMKS.00.EHZ :: File(s) for date 2017-10-04 not found!\n",
      "⚠️ VG.TMKS.00.EHZ :: File(s) for date 2017-10-05 not found!\n",
      "⚠️ VG.TMKS.00.EHZ :: File(s) for date 2017-10-06 not found!\n",
      "⚠️ VG.TMKS.00.EHZ :: File(s) for date 2017-10-07 not found!\n",
      "⚠️ VG.TMKS.00.EHZ :: File(s) for date 2017-10-08 not found!\n",
      "⚠️ VG.TMKS.00.EHZ :: File(s) for date 2017-10-09 not found!\n",
      "⚠️ VG.TMKS.00.EHZ :: File(s) for date 2017-10-10 not found!\n",
      "⚠️ VG.TMKS.00.EHZ :: File(s) for date 2017-10-11 not found!\n",
      "⚠️ VG.TMKS.00.EHZ :: File(s) for date 2017-10-12 not found!\n",
      "⚠️ VG.TMKS.00.EHZ :: File(s) for date 2017-10-13 not found!\n",
      "⚠️ VG.TMKS.00.EHZ :: File(s) for date 2017-10-14 not found!\n",
      "⚠️ VG.TMKS.00.EHZ :: File(s) for date 2017-10-15 not found!\n",
      "⚠️ VG.TMKS.00.EHZ :: File(s) for date 2017-10-16 not found!\n",
      "⛔ VG.TMKS.00.EHZ :: File(s) for date 2017-10-17 INVALID!\n",
      "ℹ️ VG.TMKS.00.EHZ :: File(s) for date 2017-10-18 OK!\n",
      "⌚ Processing HF band\n",
      "⌚ Processing LF band\n",
      "💾 Saving to D:\\Projects\\dsar\\output\\dsar\\VG.TMKS.00.EHZ\\10min\\2017-10-18_VG.TMKS.00.EHZ.csv\n",
      "ℹ️ VG.TMKS.00.EHZ :: File(s) for date 2017-10-19 OK!\n",
      "⌚ Processing HF band\n",
      "⌚ Processing LF band\n",
      "💾 Saving to D:\\Projects\\dsar\\output\\dsar\\VG.TMKS.00.EHZ\\10min\\2017-10-19_VG.TMKS.00.EHZ.csv\n",
      "ℹ️ VG.TMKS.00.EHZ :: File(s) for date 2017-10-20 OK!\n",
      "⌚ Processing HF band\n",
      "⌚ Processing LF band\n",
      "💾 Saving to D:\\Projects\\dsar\\output\\dsar\\VG.TMKS.00.EHZ\\10min\\2017-10-20_VG.TMKS.00.EHZ.csv\n",
      "ℹ️ VG.TMKS.00.EHZ :: File(s) for date 2017-10-21 OK!\n",
      "⌚ Processing HF band\n",
      "⌚ Processing LF band\n",
      "💾 Saving to D:\\Projects\\dsar\\output\\dsar\\VG.TMKS.00.EHZ\\10min\\2017-10-21_VG.TMKS.00.EHZ.csv\n"
     ]
    }
   ],
   "execution_count": 6
  },
  {
   "metadata": {
    "ExecuteTime": {
     "end_time": "2024-04-15T15:30:12.396265Z",
     "start_time": "2024-04-15T15:30:12.380637Z"
    }
   },
   "cell_type": "code",
   "source": "dsars",
   "id": "39813cfb94a1f862",
   "outputs": [
    {
     "data": {
      "text/plain": [
       "{'VG.PSAG.00.EHZ': {'2017-10-18': <dsar.DSAR at 0x230f20549a0>,\n",
       "  '2017-10-19': <dsar.DSAR at 0x230f52db520>,\n",
       "  '2017-10-20': <dsar.DSAR at 0x230ef1479a0>,\n",
       "  '2017-10-21': <dsar.DSAR at 0x230f268bac0>},\n",
       " 'VG.TMKS.00.EHZ': {'2017-10-18': <dsar.DSAR at 0x230f5763f40>,\n",
       "  '2017-10-19': <dsar.DSAR at 0x230f5763c70>,\n",
       "  '2017-10-20': <dsar.DSAR at 0x23080099570>,\n",
       "  '2017-10-21': <dsar.DSAR at 0x2308009a110>}}"
      ]
     },
     "execution_count": 7,
     "metadata": {},
     "output_type": "execute_result"
    }
   ],
   "execution_count": 7
  },
  {
   "metadata": {
    "ExecuteTime": {
     "end_time": "2024-04-15T15:30:12.411892Z",
     "start_time": "2024-04-15T15:30:12.396265Z"
    }
   },
   "cell_type": "code",
   "source": "dsars.keys()",
   "id": "abe51c83526ac5f9",
   "outputs": [
    {
     "data": {
      "text/plain": [
       "dict_keys(['VG.PSAG.00.EHZ', 'VG.TMKS.00.EHZ'])"
      ]
     },
     "execution_count": 8,
     "metadata": {},
     "output_type": "execute_result"
    }
   ],
   "execution_count": 8
  },
  {
   "metadata": {
    "ExecuteTime": {
     "end_time": "2024-04-15T15:30:12.427714Z",
     "start_time": "2024-04-15T15:30:12.414414Z"
    }
   },
   "cell_type": "code",
   "source": "dsars['VG.PSAG.00.EHZ'].keys()",
   "id": "eb17856c8cd35f95",
   "outputs": [
    {
     "data": {
      "text/plain": [
       "dict_keys(['2017-10-18', '2017-10-19', '2017-10-20', '2017-10-21'])"
      ]
     },
     "execution_count": 9,
     "metadata": {},
     "output_type": "execute_result"
    }
   ],
   "execution_count": 9
  },
  {
   "metadata": {
    "ExecuteTime": {
     "end_time": "2024-04-15T15:30:12.443387Z",
     "start_time": "2024-04-15T15:30:12.427714Z"
    }
   },
   "cell_type": "code",
   "source": "dsars['VG.PSAG.00.EHZ']['2017-10-18'].dfs['VG.PSAG.00.EHZ'].to_csv('test.csv', index=True)",
   "id": "ea865812f1359ede",
   "outputs": [],
   "execution_count": 10
  },
  {
   "metadata": {
    "ExecuteTime": {
     "end_time": "2024-04-15T15:30:12.459110Z",
     "start_time": "2024-04-15T15:30:12.443387Z"
    }
   },
   "cell_type": "code",
   "source": "",
   "id": "8c6911768f88b27f",
   "outputs": [],
   "execution_count": 10
  }
 ],
 "metadata": {
  "kernelspec": {
   "display_name": "Python 3",
   "language": "python",
   "name": "python3"
  },
  "language_info": {
   "codemirror_mode": {
    "name": "ipython",
    "version": 2
   },
   "file_extension": ".py",
   "mimetype": "text/x-python",
   "name": "python",
   "nbconvert_exporter": "python",
   "pygments_lexer": "ipython2",
   "version": "2.7.6"
  }
 },
 "nbformat": 4,
 "nbformat_minor": 5
}
