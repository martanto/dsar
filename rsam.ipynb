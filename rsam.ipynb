{
 "cells": [
  {
   "cell_type": "code",
   "id": "initial_id",
   "metadata": {
    "collapsed": true,
    "ExecuteTime": {
     "end_time": "2024-04-10T15:38:07.449165Z",
     "start_time": "2024-04-10T15:38:06.627281Z"
    }
   },
   "source": [
    "from rsam import RSAM\n",
    "\n",
    "# Please change variables inside variables.py\n",
    "from variables import *"
   ],
   "outputs": [],
   "execution_count": 1
  },
  {
   "metadata": {},
   "cell_type": "markdown",
   "source": "# Plot RSAM",
   "id": "e642c9605bd211f4"
  },
  {
   "metadata": {
    "ExecuteTime": {
     "end_time": "2024-04-10T15:38:07.461541Z",
     "start_time": "2024-04-10T15:38:07.449165Z"
    }
   },
   "cell_type": "code",
   "source": [
    "def main():\n",
    "    # ============================================\n",
    "    # Running RSAM per station\n",
    "    for station in stations:\n",
    "\n",
    "        csv_files[station]: list[str] = []\n",
    "\n",
    "        # Calculate RSAM per station per date\n",
    "        for date in dates:\n",
    "            date_string = date.strftime('%Y-%m-%d')\n",
    "\n",
    "            # Save stream on a list of streams\n",
    "            streams[date_string]: Stream = RSAM.fill_streams(client, station, date)\n",
    "\n",
    "            # Make sure stream is not empty\n",
    "            if streams[date_string].count():\n",
    "\n",
    "                # Run the RSAM per day\n",
    "                rsam = RSAM(streams[date_string], resample=resample_rule, bands=bands)\n",
    "\n",
    "                # Add RSAM CSV file result to CSV list \n",
    "                csv_files[station].append(rsam.save(rsam_directory))\n",
    "\n",
    "        # Combining RSAM CSV results per station name\n",
    "        print(RSAM.concatenate_csv(station, rsam_directory, resample_rule))\n",
    "    \n",
    "    # Plot RSAM\n",
    "    RSAM.plot(stations, rsam_directory, axvspans=continuous_eruptions, axvlines=single_eruptions)"
   ],
   "id": "852ba8841791854f",
   "outputs": [],
   "execution_count": 2
  },
  {
   "metadata": {
    "ExecuteTime": {
     "end_time": "2024-04-10T15:38:08.557094Z",
     "start_time": "2024-04-10T15:38:07.462958Z"
    }
   },
   "cell_type": "code",
   "source": "main()",
   "id": "9a75f9ccc67a3b3f",
   "outputs": [
    {
     "name": "stdout",
     "output_type": "stream",
     "text": [
      "D:\\Projects\\dsar\\output\\rsam\\VG.PSAG.00.EHZ\\combined_VG.PSAG.00.EHZ.csv\n",
      "D:\\Projects\\dsar\\output\\rsam\\VG.TMKS.00.EHZ\\combined_VG.TMKS.00.EHZ.csv\n"
     ]
    }
   ],
   "execution_count": 3
  },
  {
   "metadata": {
    "ExecuteTime": {
     "end_time": "2024-04-10T15:38:08.581630Z",
     "start_time": "2024-04-10T15:38:08.569622Z"
    }
   },
   "cell_type": "code",
   "source": "",
   "id": "3cf36eff6911e8f0",
   "outputs": [],
   "execution_count": 4
  }
 ],
 "metadata": {
  "kernelspec": {
   "display_name": "Python 3",
   "language": "python",
   "name": "python3"
  },
  "language_info": {
   "codemirror_mode": {
    "name": "ipython",
    "version": 2
   },
   "file_extension": ".py",
   "mimetype": "text/x-python",
   "name": "python",
   "nbconvert_exporter": "python",
   "pygments_lexer": "ipython2",
   "version": "2.7.6"
  }
 },
 "nbformat": 4,
 "nbformat_minor": 5
}
