{
 "cells": [
  {
   "cell_type": "code",
   "id": "initial_id",
   "metadata": {
    "collapsed": true,
    "ExecuteTime": {
     "end_time": "2024-09-10T06:39:32.700071Z",
     "start_time": "2024-09-10T06:39:32.262634Z"
    }
   },
   "source": [
    "from dsar import DSAR, FrequencyBands\n",
    "from obspy import Stream"
   ],
   "outputs": [],
   "execution_count": 1
  },
  {
   "metadata": {
    "ExecuteTime": {
     "end_time": "2024-09-10T06:39:32.715316Z",
     "start_time": "2024-09-10T06:39:32.700071Z"
    }
   },
   "cell_type": "code",
   "source": [
    "dsar = DSAR(\n",
    "    stream=Stream(),\n",
    ")"
   ],
   "id": "725ea6346babe205",
   "outputs": [],
   "execution_count": 2
  },
  {
   "metadata": {
    "ExecuteTime": {
     "end_time": "2024-09-10T06:39:32.730907Z",
     "start_time": "2024-09-10T06:39:32.715316Z"
    }
   },
   "cell_type": "code",
   "source": "dsar.bands",
   "id": "a4ac3777a680aa32",
   "outputs": [
    {
     "data": {
      "text/plain": [
       "{'LF': [0.1, 4.5, 8.0], 'HF': [0.1, 8.0, 16.0]}"
      ]
     },
     "execution_count": 3,
     "metadata": {},
     "output_type": "execute_result"
    }
   ],
   "execution_count": 3
  },
  {
   "metadata": {
    "ExecuteTime": {
     "end_time": "2024-09-10T06:39:32.746805Z",
     "start_time": "2024-09-10T06:39:32.730907Z"
    }
   },
   "cell_type": "code",
   "source": "dsar.first_bands(name='LF', first_freq=0.1, second_freq=4.5, third_freq=8.0)",
   "id": "f3903034b7fd2fa8",
   "outputs": [
    {
     "data": {
      "text/plain": [
       "DSAR(stream=0 Trace(s) in Stream:\n",
       ", resample=10min), first_bands={'LF': [0.1, 4.5, 8.0]}, second_bands=None, bands={'LF': [0.1, 4.5, 8.0], 'HF': [0.1, 8.0, 16.0]}"
      ]
     },
     "execution_count": 4,
     "metadata": {},
     "output_type": "execute_result"
    }
   ],
   "execution_count": 4
  },
  {
   "metadata": {
    "ExecuteTime": {
     "end_time": "2024-09-10T06:39:32.762718Z",
     "start_time": "2024-09-10T06:39:32.748875Z"
    }
   },
   "cell_type": "code",
   "source": "dsar.second_bands(name='oke', first_freq=0.1, second_freq=7.0, third_freq=16.0)",
   "id": "eb64282fa9b45b51",
   "outputs": [
    {
     "data": {
      "text/plain": [
       "DSAR(stream=0 Trace(s) in Stream:\n",
       ", resample=10min), first_bands={'LF': [0.1, 4.5, 8.0]}, second_bands={'oke': [0.1, 7.0, 16.0]}, bands={'LF': [0.1, 4.5, 8.0], 'oke': [0.1, 7.0, 16.0]}"
      ]
     },
     "execution_count": 5,
     "metadata": {},
     "output_type": "execute_result"
    }
   ],
   "execution_count": 5
  },
  {
   "metadata": {
    "ExecuteTime": {
     "end_time": "2024-09-10T06:39:32.778817Z",
     "start_time": "2024-09-10T06:39:32.764732Z"
    }
   },
   "cell_type": "code",
   "source": "dsar",
   "id": "dc9bffdd49a6fbe2",
   "outputs": [
    {
     "data": {
      "text/plain": [
       "DSAR(stream=0 Trace(s) in Stream:\n",
       ", resample=10min), first_bands={'LF': [0.1, 4.5, 8.0]}, second_bands={'oke': [0.1, 7.0, 16.0]}, bands={'LF': [0.1, 4.5, 8.0], 'oke': [0.1, 7.0, 16.0]}"
      ]
     },
     "execution_count": 6,
     "metadata": {},
     "output_type": "execute_result"
    }
   ],
   "execution_count": 6
  },
  {
   "metadata": {},
   "cell_type": "code",
   "source": "dsar._second_bands",
   "id": "73c791c34ed9cb6a",
   "outputs": [],
   "execution_count": null
  },
  {
   "metadata": {},
   "cell_type": "code",
   "source": "",
   "id": "9db3fa0928c51c68",
   "outputs": [],
   "execution_count": null
  }
 ],
 "metadata": {
  "kernelspec": {
   "display_name": "Python 3",
   "language": "python",
   "name": "python3"
  },
  "language_info": {
   "codemirror_mode": {
    "name": "ipython",
    "version": 2
   },
   "file_extension": ".py",
   "mimetype": "text/x-python",
   "name": "python",
   "nbconvert_exporter": "python",
   "pygments_lexer": "ipython2",
   "version": "2.7.6"
  }
 },
 "nbformat": 4,
 "nbformat_minor": 5
}
