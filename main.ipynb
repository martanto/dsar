{
 "cells": [
  {
   "cell_type": "code",
   "execution_count": 1,
   "id": "initial_id",
   "metadata": {
    "ExecuteTime": {
     "end_time": "2024-04-03T13:26:29.177725Z",
     "start_time": "2024-04-03T13:26:28.796086Z"
    }
   },
   "outputs": [],
   "source": [
    "import pandas as pd\n",
    "import os\n",
    "import numpy as np\n",
    "from obspy import read, Stream\n",
    "from obspy.core import UTCDateTime\n",
    "from obspy.clients.filesystem.sds import Client\n",
    "from datetime import timedelta\n"
   ]
  },
  {
   "cell_type": "markdown",
   "id": "e4f14116e605c34d",
   "metadata": {
    "collapsed": false
   },
   "source": [
    "Initiate station variables"
   ]
  },
  {
   "cell_type": "code",
   "execution_count": 2,
   "id": "486d569993fb5b9c",
   "metadata": {
    "collapsed": false,
    "ExecuteTime": {
     "end_time": "2024-04-03T13:26:29.187949Z",
     "start_time": "2024-04-03T13:26:29.179942Z"
    }
   },
   "outputs": [],
   "source": [
    "network = \"VG\"\n",
    "station = \"PSAG\"\n",
    "location = \"00\"\n",
    "channel = \"EHZ\""
   ]
  },
  {
   "cell_type": "markdown",
   "id": "63c3a89592c1bdbe",
   "metadata": {
    "collapsed": false
   },
   "source": [
    "Initiate directories variables.   \n",
    "The `sds_directory` based on Seiscomp Data Structure (https://www.seiscomp.de/seiscomp3/doc/applications/slarchive/SDS.html)  \n",
    "The example of the SDS Directory can be found inside `input` directory"
   ]
  },
  {
   "cell_type": "code",
   "execution_count": 3,
   "id": "79e965a885f8f139",
   "metadata": {
    "collapsed": false,
    "ExecuteTime": {
     "end_time": "2024-04-03T13:26:29.372211Z",
     "start_time": "2024-04-03T13:26:29.364634Z"
    }
   },
   "outputs": [],
   "source": [
    "current_dir: str = os.getcwd()\n",
    "sds_directory: str = r\"D:\\Projects\\dsar\\input\"\n",
    "client = Client(sds_directory)\n",
    "\n",
    "output_directory: str = os.path.join(current_dir, \"output\")\n",
    "os.makedirs(output_directory, exist_ok=True)"
   ]
  },
  {
   "cell_type": "markdown",
   "id": "2371a07385c2f5d6",
   "metadata": {
    "collapsed": false
   },
   "source": [
    "Add start_date and end_date parameters"
   ]
  },
  {
   "cell_type": "code",
   "execution_count": 4,
   "id": "a904db828f989873",
   "metadata": {
    "collapsed": false,
    "ExecuteTime": {
     "end_time": "2024-04-03T13:26:31.009365Z",
     "start_time": "2024-04-03T13:26:31.003135Z"
    }
   },
   "outputs": [],
   "source": [
    "start_date: str = \"2017-12-01\"\n",
    "end_date: str = \"2017-12-03\""
   ]
  },
  {
   "cell_type": "code",
   "outputs": [],
   "source": [
    "bands: dict[str, list[float]] = {\n",
    "    'HF' : [0.1, 8.0, 16.0],\n",
    "    'LF' : [0.1, 4.5, 8.0],\n",
    "}"
   ],
   "metadata": {
    "collapsed": false,
    "ExecuteTime": {
     "end_time": "2024-04-03T13:26:31.165257Z",
     "start_time": "2024-04-03T13:26:31.146091Z"
    }
   },
   "id": "15b8190370b1edb2",
   "execution_count": 5
  },
  {
   "cell_type": "markdown",
   "id": "6e84a5fde0433a67",
   "metadata": {
    "collapsed": false
   },
   "source": [
    "A method to generate list of date between two date periods. Returning `pd.DatetimeIndex`"
   ]
  },
  {
   "cell_type": "code",
   "execution_count": 6,
   "id": "cb2f55a9383a957c",
   "metadata": {
    "collapsed": false,
    "ExecuteTime": {
     "end_time": "2024-04-03T13:26:31.432694Z",
     "start_time": "2024-04-03T13:26:31.426372Z"
    }
   },
   "outputs": [],
   "source": [
    "def get_dates(start: str, end: str) -> pd.DatetimeIndex:\n",
    "    return pd.date_range(start, end, freq=\"D\")"
   ]
  },
  {
   "cell_type": "markdown",
   "id": "ad4a3f41c7629181",
   "metadata": {
    "collapsed": false
   },
   "source": [
    "Stream processing to get `dsar` values"
   ]
  },
  {
   "cell_type": "code",
   "execution_count": 7,
   "id": "6dc3ed4606128c71",
   "metadata": {
    "collapsed": false,
    "ExecuteTime": {
     "end_time": "2024-04-03T13:26:32.855553Z",
     "start_time": "2024-04-03T13:26:32.847980Z"
    }
   },
   "outputs": [],
   "source": [
    "def stream_processing(\n",
    "        daily_mseed: Stream,\n",
    "        first_highpass: float = 0.1,\n",
    "        second_highpass: float = 8.0,\n",
    "        low_pass: float = 16.0\n",
    "    ) -> Stream:\n",
    "    stream = daily_mseed\n",
    "    stream.merge(fill_value=0)\n",
    "    stream.detrend('demean')\n",
    "    stream.filter('highpass', freq=first_highpass)\n",
    "    stream.integrate()\n",
    "    stream.filter('highpass', freq=second_highpass)\n",
    "    stream.filter('lowpass', freq=low_pass)\n",
    "    return stream"
   ]
  },
  {
   "cell_type": "markdown",
   "id": "c9e6272ffaa60f28",
   "metadata": {
    "collapsed": false
   },
   "source": [
    "Convert calculated `dsar` value into `pd.Series`"
   ]
  },
  {
   "cell_type": "code",
   "execution_count": 8,
   "id": "134a971b37e9cb63",
   "metadata": {
    "collapsed": false,
    "ExecuteTime": {
     "end_time": "2024-04-03T13:26:33.165254Z",
     "start_time": "2024-04-03T13:26:33.158767Z"
    }
   },
   "outputs": [],
   "source": [
    "def convert_stream_to_series(stream: Stream) -> pd.Series:\n",
    "    index_time = pd.date_range(\n",
    "        start = stream[0].stats.starttime.datetime,\n",
    "        periods = stream[0].stats.npts,\n",
    "        freq = \"{}ms\".format(stream[0].stats.delta*1000)\n",
    "    )\n",
    "    \n",
    "    series = pd.Series(\n",
    "        data=np.abs(stream[0].data),\n",
    "        index=index_time,\n",
    "        name=stream[0].id,\n",
    "        dtype=stream[0].data.dtype)\n",
    "    \n",
    "    # print(series)\n",
    "    \n",
    "    return series.resample('10min').median()"
   ]
  },
  {
   "cell_type": "code",
   "outputs": [],
   "source": [
    "def fill_streams(date: UTCDateTime, band_values=None)-> Stream:\n",
    "    if band_values is None:\n",
    "        band_values = [0.1, 8.0, 16, 0]\n",
    "        \n",
    "    stream = client.get_waveforms(\n",
    "        network = network,\n",
    "        station = station,\n",
    "        location = location,\n",
    "        channel = channel,\n",
    "        starttime = date,\n",
    "        endtime= date + timedelta(days=1)\n",
    "    )\n",
    "    \n",
    "    if stream.count() > 0:\n",
    "        date_string = date.strftime('%Y-%m-%d')\n",
    "        print(\"⌚ Processing {} for {}\".format(date_string, stream[0].id))\n",
    "\n",
    "        # You can change the freq filter here\n",
    "        stream = stream_processing(\n",
    "            stream,\n",
    "            first_highpass = band_values[0],\n",
    "            second_highpass = band_values[1],\n",
    "            low_pass = band_values[2]\n",
    "        )\n",
    "        \n",
    "        return stream\n",
    "    else:\n",
    "        print(\"⚠️ {} :: File(s) not found!\".format(date.strftime('%Y-%m-%d')))\n",
    "        return Stream()"
   ],
   "metadata": {
    "collapsed": false,
    "ExecuteTime": {
     "end_time": "2024-04-03T13:26:34.826712Z",
     "start_time": "2024-04-03T13:26:34.821044Z"
    }
   },
   "id": "e965e75d99ddaa14",
   "execution_count": 9
  },
  {
   "cell_type": "code",
   "outputs": [],
   "source": [
    "def fill_series_and_save_to_csv(stream: Stream, band, band_values=None)-> pd.Series:\n",
    "    if band_values is None:\n",
    "        band_values = [0.1, 8.0, 16, 0]\n",
    "    date_string: str = stream[0].stats.starttime.datetime.strftime('%Y-%m-%d')\n",
    "    \n",
    "    filename: str = \"{}_{}_{}\".format(\n",
    "        '-'.join(map(str,band_values)),\n",
    "        date_string,\n",
    "        stream[0].id\n",
    "    )\n",
    "    \n",
    "    os.makedirs(os.path.join(output_directory, band), exist_ok=True)\n",
    "    csv_output = os.path.join(output_directory, band,\"{}.csv\".format(filename))\n",
    "    \n",
    "    print(\"↔️ Convert stream {} to series\".format(filename))\n",
    "    values = convert_stream_to_series(stream)\n",
    "    \n",
    "    print(\"💾 Saving to {}\".format(csv_output))\n",
    "    values.to_csv(\n",
    "        os.path.join(output_directory,csv_output),\n",
    "        header=False\n",
    "    )\n",
    "    \n",
    "    return values"
   ],
   "metadata": {
    "collapsed": false,
    "ExecuteTime": {
     "end_time": "2024-04-03T13:27:45.369857Z",
     "start_time": "2024-04-03T13:27:45.355888Z"
    }
   },
   "id": "9f5e70eb79a0e445",
   "execution_count": 13
  },
  {
   "cell_type": "code",
   "execution_count": 11,
   "id": "32884dd26aef9bec",
   "metadata": {
    "collapsed": false,
    "ExecuteTime": {
     "end_time": "2024-04-03T13:26:36.511134Z",
     "start_time": "2024-04-03T13:26:36.504541Z"
    }
   },
   "outputs": [],
   "source": [
    "dates: list[UTCDateTime] = [UTCDateTime(date) for date in get_dates(start_date, end_date)]"
   ]
  },
  {
   "cell_type": "code",
   "outputs": [
    {
     "name": "stdout",
     "output_type": "stream",
     "text": [
      "=====================================\n",
      "🏃‍♀️ Using HF band with with values [0.1, 8.0, 16.0]\n",
      "======================================\n",
      "\n",
      "⌚ Processing 2017-12-01 for VG.PSAG.00.EHZ\n",
      "↔️ Convert stream 0.1-8.0-16.0_2017-12-01_VG.PSAG.00.EHZ to series\n",
      "💾 Saving to D:\\Projects\\dsar\\output\\0.1-8.0-16.0_2017-12-01_VG.PSAG.00.EHZ.csv\n",
      "\n",
      "⌚ Processing 2017-12-02 for VG.PSAG.00.EHZ\n",
      "↔️ Convert stream 0.1-8.0-16.0_2017-12-02_VG.PSAG.00.EHZ to series\n",
      "💾 Saving to D:\\Projects\\dsar\\output\\0.1-8.0-16.0_2017-12-02_VG.PSAG.00.EHZ.csv\n",
      "\n",
      "⌚ Processing 2017-12-03 for VG.PSAG.00.EHZ\n",
      "↔️ Convert stream 0.1-8.0-16.0_2017-12-03_VG.PSAG.00.EHZ to series\n",
      "💾 Saving to D:\\Projects\\dsar\\output\\0.1-8.0-16.0_2017-12-03_VG.PSAG.00.EHZ.csv\n",
      "\n",
      "=====================================\n",
      "🏃‍♀️ Using LF band with with values [0.1, 4.5, 8.0]\n",
      "======================================\n",
      "\n",
      "⌚ Processing 2017-12-01 for VG.PSAG.00.EHZ\n",
      "↔️ Convert stream 0.1-4.5-8.0_2017-12-01_VG.PSAG.00.EHZ to series\n",
      "💾 Saving to D:\\Projects\\dsar\\output\\0.1-4.5-8.0_2017-12-01_VG.PSAG.00.EHZ.csv\n",
      "\n",
      "⌚ Processing 2017-12-02 for VG.PSAG.00.EHZ\n",
      "↔️ Convert stream 0.1-4.5-8.0_2017-12-02_VG.PSAG.00.EHZ to series\n",
      "💾 Saving to D:\\Projects\\dsar\\output\\0.1-4.5-8.0_2017-12-02_VG.PSAG.00.EHZ.csv\n",
      "\n",
      "⌚ Processing 2017-12-03 for VG.PSAG.00.EHZ\n",
      "↔️ Convert stream 0.1-4.5-8.0_2017-12-03_VG.PSAG.00.EHZ to series\n",
      "💾 Saving to D:\\Projects\\dsar\\output\\0.1-4.5-8.0_2017-12-03_VG.PSAG.00.EHZ.csv\n"
     ]
    }
   ],
   "source": [
    "streams: dict[str, Stream] = {}\n",
    "series: dict[str, dict[str, pd.Series]] = {}\n",
    "for band in bands.keys():\n",
    "    band_values: list[float] = bands[band]\n",
    "    series[band]: dict[str, pd.Series] = {}\n",
    "    print(\"=====================================\")\n",
    "    print(\"🏃‍♀️ Using {} band with with values {}\".format(band, band_values))\n",
    "    print(\"======================================\")\n",
    "    for date in dates:\n",
    "        date_string = date.strftime('%Y-%m-%d')\n",
    "        print(\"\")\n",
    "        streams[date_string]: Stream = fill_streams(date, band_values)\n",
    "        series[band][date_string]: pd.Series = fill_series_and_save_to_csv(streams[date_string], band, band_values)\n",
    "    print(\"\")"
   ],
   "metadata": {
    "collapsed": false,
    "ExecuteTime": {
     "end_time": "2024-04-03T13:27:53.252185Z",
     "start_time": "2024-04-03T13:27:49.755966Z"
    }
   },
   "id": "1fd9aeea1b12b97e",
   "execution_count": 14
  },
  {
   "cell_type": "code",
   "outputs": [
    {
     "name": "stdout",
     "output_type": "stream",
     "text": [
      "dict_keys(['2017-12-01', '2017-12-02', '2017-12-03'])\n"
     ]
    }
   ],
   "source": [],
   "metadata": {
    "collapsed": false,
    "ExecuteTime": {
     "end_time": "2024-04-03T13:23:40.003342Z",
     "start_time": "2024-04-03T13:23:39.999087Z"
    }
   },
   "id": "ca8fd3536df23fe5",
   "execution_count": 46
  },
  {
   "cell_type": "code",
   "execution_count": 41,
   "id": "5ef93a2819b0a811",
   "metadata": {
    "collapsed": false,
    "ExecuteTime": {
     "end_time": "2024-04-03T13:18:11.373073Z",
     "start_time": "2024-04-03T13:18:11.365685Z"
    }
   },
   "outputs": [
    {
     "data": {
      "text/plain": "dict_keys(['HF', 'LF'])"
     },
     "execution_count": 41,
     "metadata": {},
     "output_type": "execute_result"
    }
   ],
   "source": [
    "series.keys()"
   ]
  },
  {
   "cell_type": "code",
   "outputs": [
    {
     "data": {
      "text/plain": "dict_keys(['2017-12-01', '2017-12-02', '2017-12-03'])"
     },
     "execution_count": 42,
     "metadata": {},
     "output_type": "execute_result"
    }
   ],
   "source": [
    "series['LF'].keys()"
   ],
   "metadata": {
    "collapsed": false,
    "ExecuteTime": {
     "end_time": "2024-04-03T13:18:12.791184Z",
     "start_time": "2024-04-03T13:18:12.782929Z"
    }
   },
   "id": "67bfbcd88a8f769",
   "execution_count": 42
  },
  {
   "cell_type": "code",
   "outputs": [
    {
     "data": {
      "text/plain": "2017-12-01 00:00:00    0.439914\n2017-12-01 00:10:00    0.538841\n2017-12-01 00:20:00    0.597672\n2017-12-01 00:30:00    0.853629\n2017-12-01 00:40:00    0.607109\n                         ...   \n2017-12-01 23:20:00    0.441009\n2017-12-01 23:30:00    0.464588\n2017-12-01 23:40:00    0.434270\n2017-12-01 23:50:00    0.394752\n2017-12-02 00:00:00    0.445553\nFreq: 10min, Name: VG.PSAG.00.EHZ, Length: 145, dtype: float64"
     },
     "execution_count": 43,
     "metadata": {},
     "output_type": "execute_result"
    }
   ],
   "source": [
    "series['HF']['2017-12-01']"
   ],
   "metadata": {
    "collapsed": false,
    "ExecuteTime": {
     "end_time": "2024-04-03T13:18:14.153409Z",
     "start_time": "2024-04-03T13:18:14.132033Z"
    }
   },
   "id": "614421545c7d522f",
   "execution_count": 43
  },
  {
   "cell_type": "code",
   "execution_count": 44,
   "id": "d9eed1167b340ea7",
   "metadata": {
    "collapsed": false,
    "ExecuteTime": {
     "end_time": "2024-04-03T13:18:35.827466Z",
     "start_time": "2024-04-03T13:18:35.567583Z"
    }
   },
   "outputs": [
    {
     "data": {
      "text/plain": "<Axes: >"
     },
     "execution_count": 44,
     "metadata": {},
     "output_type": "execute_result"
    },
    {
     "data": {
      "text/plain": "<Figure size 640x480 with 1 Axes>",
      "image/png": "[encoded data removed]"
     },
     "metadata": {},
     "output_type": "display_data"
    }
   ],
   "source": [
    "series['HF']['2017-12-01'].plot()"
   ]
  },
  {
   "cell_type": "code",
   "execution_count": null,
   "id": "2403dd15-3a07-4fa7-90c7-f08c30ac5058",
   "metadata": {},
   "outputs": [],
   "source": []
  }
 ],
 "metadata": {
  "kernelspec": {
   "display_name": "Python 3 (ipykernel)",
   "language": "python",
   "name": "python3"
  },
  "language_info": {
   "codemirror_mode": {
    "name": "ipython",
    "version": 3
   },
   "file_extension": ".py",
   "mimetype": "text/x-python",
   "name": "python",
   "nbconvert_exporter": "python",
   "pygments_lexer": "ipython3",
   "version": "3.10.14"
  }
 },
 "nbformat": 4,
 "nbformat_minor": 5
}
