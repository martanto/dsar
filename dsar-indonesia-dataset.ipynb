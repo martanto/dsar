{
 "cells": [
  {
   "cell_type": "code",
   "id": "initial_id",
   "metadata": {
    "collapsed": true
   },
   "source": [
    "import pandas as pd\n",
    "import os\n",
    "from obspy.core import UTCDateTime\n",
    "from obspy import read, Stream\n",
    "from dsar import DSAR\n",
    "from rsam import RSAM"
   ],
   "outputs": [],
   "execution_count": null
  },
  {
   "metadata": {},
   "cell_type": "code",
   "source": [
    "current_dir: str = os.getcwd()\n",
    "\n",
    "output_directory: str = os.path.join(current_dir, \"output\", \"indonesia\")\n",
    "os.makedirs(output_directory, exist_ok=True)\n",
    "\n",
    "# Get DSAR output directory and make sure it exists\n",
    "dsar_directory: str = os.path.join(output_directory, \"dsar\")\n",
    "os.makedirs(dsar_directory, exist_ok=True)\n",
    "\n",
    "rsam_directory: str = os.path.join(output_directory, \"rsam\")\n",
    "os.makedirs(rsam_directory, exist_ok=True)\n",
    "\n",
    "figures_directory: str = os.path.join(output_directory, \"figures\")\n",
    "os.makedirs(figures_directory, exist_ok=True)"
   ],
   "id": "3e6563eaa9e7b422",
   "outputs": [],
   "execution_count": null
  },
  {
   "metadata": {},
   "cell_type": "code",
   "source": [
    "stations = ['VG.RUA3.00.EHZ']\n",
    "\n",
    "idds_dir = 'D:\\\\Data\\\\MSEED'\n",
    "\n",
    "start_date: str = \"2023-01-01\"\n",
    "end_date: str = \"2024-04-15\"\n",
    "\n",
    "resample_rule = '10min'\n",
    "\n",
    "dsar_bands: dict[str, list[float]] = {\n",
    "    'HF' : [0.1, 8.0, 16.0],\n",
    "    'LF' : [0.1, 4.5, 8.0],\n",
    "}\n",
    "\n",
    "rsam_bands: dict[str, list[float]] = {\n",
    "    'VLP': [0.02, 0.2],\n",
    "    'LP': [0.5, 4.0],\n",
    "    'VT': [4.0, 18.0]\n",
    "}"
   ],
   "id": "cd18b94518d53d7d",
   "outputs": [],
   "execution_count": null
  },
  {
   "metadata": {},
   "cell_type": "code",
   "source": [
    "def get_dates(start: str, end: str) -> pd.DatetimeIndex:\n",
    "    return pd.date_range(start, end, freq=\"D\")"
   ],
   "id": "226573717f45d59c",
   "outputs": [],
   "execution_count": null
  },
  {
   "metadata": {},
   "cell_type": "code",
   "source": "dates: list[UTCDateTime] = [UTCDateTime(date) for date in get_dates(start_date, end_date)]\n",
   "id": "b6c0cfd3d9cc0205",
   "outputs": [],
   "execution_count": null
  },
  {
   "metadata": {},
   "cell_type": "code",
   "source": [
    "def get_stream(idds_dir, station: str, date: UTCDateTime) -> Stream:\n",
    "    net, sta, loc, chan = station.split('.')\n",
    "    year = date.strftime(\"%Y\")\n",
    "    jul_date = date.strftime(\"%j\")\n",
    "    directory = os.path.join(idds_dir, year, net, sta, '*', jul_date, '*')\n",
    "    \n",
    "    stream = Stream()\n",
    "    \n",
    "    try:\n",
    "        stream = read(directory)\n",
    "        stream.merge(fill_value=0)\n",
    "    except Exception as e:\n",
    "        print(f'⛔ {date} :: {e}')\n",
    "    finally:\n",
    "        return stream\n",
    "    "
   ],
   "id": "8992dd9e002a7c35",
   "outputs": [],
   "execution_count": null
  },
  {
   "metadata": {},
   "cell_type": "code",
   "source": [
    "streams: dict[str, Stream] = {}\n",
    "series: dict[str, dict[str, pd.Series]] = {}\n",
    "\n",
    "for station in stations:   \n",
    "    csv_files: dict[str, list[str]] = {}\n",
    "\n",
    "    for date in dates:\n",
    "        date_str = date.strftime(\"%Y-%m-%d\")\n",
    "        jul_date = date.strftime(\"%j\")\n",
    "        print(f'📅 :: {jul_date} - {date_str}')\n",
    "\n",
    "        streams[date_str] = get_stream(idds_dir, station, date)\n",
    "\n",
    "        if streams[date_str].count():\n",
    "            dsar = DSAR(streams[date_str], bands = dsar_bands, resample = resample_rule)\n",
    "            dsar.save(output_directory = dsar_directory)\n",
    "\n",
    "            rsam = RSAM(streams[date_str], resample = resample_rule, bands = rsam_bands)\n",
    "            rsam.save(output_directory = rsam_directory)\n",
    "\n",
    "\n",
    "    DSAR.concatenate_csv(dsar_directory, station, resample=resample_rule)\n",
    "    RSAM.concatenate_csv(rsam_directory, station, resample=resample_rule)\n"
   ],
   "id": "d62b6ec225dd96f0",
   "outputs": [],
   "execution_count": null
  },
  {
   "metadata": {},
   "cell_type": "code",
   "source": [
    "continuous_eruptions: list[list[str]] = [\n",
    "    # ['2017-11-21', '2017-11-29'],\n",
    "    # ['2018-06-27', '2018-07-16'],\n",
    "    # ['2018-07-24', '2018-07-27'],\n",
    "    ['2024-04-14', '2024-04-15'],\n",
    "]"
   ],
   "id": "a6f93abb71972c05",
   "outputs": [],
   "execution_count": null
  },
  {
   "metadata": {},
   "cell_type": "code",
   "source": [
    "dsar_fig = DSAR.plot_single_graph(dsar_directory, stations[0], resample=resample_rule,\n",
    "          y_min = 1.0, y_max = 3, interval_day=60)"
   ],
   "id": "82713123d2d0a5f5",
   "outputs": [],
   "execution_count": null
  },
  {
   "metadata": {},
   "cell_type": "code",
   "source": "rsam_fig = RSAM.plot_single_graph(rsam_directory, stations[0], resample=resample_rule, interval_day=60, axvspans = continuous_eruptions)",
   "id": "11fc04a2f212e93b",
   "outputs": [],
   "execution_count": null
  },
  {
   "metadata": {},
   "cell_type": "code",
   "source": [
    "filename_dsar = os.path.join(figures_directory, f'dsar_{stations[0]}_{start_date}_{end_date}_{resample_rule}.png')\n",
    "dsar_fig.savefig(filename_dsar, dpi=300)"
   ],
   "id": "25cd7677da810916",
   "outputs": [],
   "execution_count": null
  },
  {
   "metadata": {},
   "cell_type": "code",
   "source": [
    "filename_rsam = os.path.join(figures_directory, f'rsam_{stations[0]}_{start_date}_{end_date}_{resample_rule}.png')\n",
    "rsam_fig.savefig(filename_rsam, dpi=300)"
   ],
   "id": "44c458554d4e8ee7",
   "outputs": [],
   "execution_count": null
  },
  {
   "metadata": {},
   "cell_type": "code",
   "source": "",
   "id": "1318afd009c862fb",
   "outputs": [],
   "execution_count": null
  }
 ],
 "metadata": {
  "kernelspec": {
   "display_name": "Python 3",
   "language": "python",
   "name": "python3"
  },
  "language_info": {
   "codemirror_mode": {
    "name": "ipython",
    "version": 2
   },
   "file_extension": ".py",
   "mimetype": "text/x-python",
   "name": "python",
   "nbconvert_exporter": "python",
   "pygments_lexer": "ipython2",
   "version": "2.7.6"
  }
 },
 "nbformat": 4,
 "nbformat_minor": 5
}
