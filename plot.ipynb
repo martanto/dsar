{
 "cells": [
  {
   "cell_type": "code",
   "id": "initial_id",
   "metadata": {
    "collapsed": true,
    "jupyter": {
     "outputs_hidden": true
    },
    "ExecuteTime": {
     "end_time": "2024-04-12T13:55:15.977555Z",
     "start_time": "2024-04-12T13:55:14.843682Z"
    }
   },
   "source": [
    "from variables import *\n",
    "from statsmodels.tsa.filters.hp_filter import hpfilter\n",
    "from datetime import datetime\n",
    "\n",
    "import matplotlib.pyplot as plt\n",
    "import matplotlib.dates as mdates"
   ],
   "outputs": [],
   "execution_count": 1
  },
  {
   "cell_type": "code",
   "id": "773d4747d7ca8ad9",
   "metadata": {
    "collapsed": false
   },
   "source": [
    "def get_nrows(plot_rsam: bool = False) -> int:\n",
    "    n_stations = len(stations)*2 if plot_rsam else len(stations)\n",
    "    \n",
    "    if plot_from_magma:\n",
    "        return n_stations+len(magma_df.columns)\n",
    "    return n_stations"
   ],
   "outputs": [],
   "execution_count": null
  },
  {
   "cell_type": "code",
   "id": "d39ba2288583a65c",
   "metadata": {
    "collapsed": false
   },
   "source": [
    "def merge_stations_and_eq_events(plot_rsam: bool = False) -> list[str]:\n",
    "    if plot_from_magma:\n",
    "        return magma_df.columns.tolist() + stations\n",
    "    return stations"
   ],
   "outputs": [],
   "execution_count": null
  },
  {
   "metadata": {},
   "cell_type": "code",
   "outputs": [],
   "execution_count": null,
   "source": "",
   "id": "e3121daa48430dc7"
  },
  {
   "cell_type": "code",
   "id": "37fbf718c8cbb8e3",
   "metadata": {
    "collapsed": false
   },
   "source": [
    "fig, axs = plt.subplots(nrows=get_nrows(), ncols=1, figsize=(12, 3*get_nrows()),\n",
    "                        layout=\"constrained\", sharex=True)\n",
    "\n",
    "for index_key, station in enumerate(merge_stations_and_eq_events()):\n",
    "    \n",
    "    # (optional) Plotting VT events and eruptions from MAGMA Indonesia\n",
    "    if plot_from_magma and index_key < len(magma_df.columns):\n",
    "        axs[index_key].bar(magma_df.index, magma_df[station], width=0.5)\n",
    "        \n",
    "        axs[index_key].set_ylabel('Count')\n",
    "            \n",
    "        axs[index_key].xaxis.set_major_locator(mdates.DayLocator(interval=14))\n",
    "    \n",
    "    # Default plot\n",
    "    else:\n",
    "        df = pd.read_csv(os.path.join(dsar_directory, 'DSAR_{}.csv'.format(station)), \n",
    "                     index_col='datetime', parse_dates=True)\n",
    "\n",
    "        # HP filter documentation https://www.statsmodels.org/stable/generated/statsmodels.tsa.filters.hp_filter.hpfilter.html\n",
    "        _,trend = hpfilter(df.DSAR, 1000000)\n",
    "        axs[index_key].scatter(df.index, df.DSAR, c= 'k', alpha=0.3, s=10, label='10 minutes')\n",
    "        \n",
    "        # Smoothing using 24 Hour\n",
    "        axs[index_key].plot(df.index, df.DSAR_24h, c='red', label='24h', alpha=1)\n",
    "        \n",
    "        # Using HP Filter. Uncomment to use HP filter.\n",
    "        # axs[index_key].plot(df.index, trend, c='red', label='24h'.format(station), alpha=1)\n",
    "\n",
    "        # axs[index_key].set_title(station, loc='left', y=0.8, x=0.01,\n",
    "        #                          fontsize='medium', backgroundcolor='white')\n",
    "        \n",
    "        axs[index_key].set_ylabel('DSAR')\n",
    "\n",
    "        # Plot label only for the last subplot\n",
    "        if index_key == (len(stations)-1):\n",
    "            axs[index_key].set_xlabel('Date')\n",
    "\n",
    "        axs[index_key].xaxis.set_major_locator(mdates.DayLocator(interval=14))\n",
    "        axs[index_key].xaxis.set_major_formatter(mdates.DateFormatter('%Y-%m-%d'))\n",
    "\n",
    "        # Change your limit of DSAR value\n",
    "        axs[index_key].set_ylim(0,6.5)\n",
    "        axs[index_key].set_xlim(df.first_valid_index(), df.last_valid_index())\n",
    "   \n",
    "   \n",
    "   # Set title using annotation\n",
    "    axs[index_key].annotate(\n",
    "        text=station,\n",
    "        xy=(0.01, 0.92),\n",
    "        xycoords='axes fraction',\n",
    "        fontsize='8',\n",
    "        bbox=dict(facecolor='white', alpha=0.5)\n",
    "    )     \n",
    "    \n",
    "    # Plotting continous eruptions\n",
    "    for key, continous in enumerate(continous_eruptions):\n",
    "        # continous[0] = start date of eruption\n",
    "        # continous[1] = end date of eruption \n",
    "        axs[index_key].axvspan(datetime.strptime(continous[0], '%Y-%m-%d'), \n",
    "                               datetime.strptime(continous[1], '%Y-%m-%d'), \n",
    "                               alpha=0.4, color='orange', label=\"_\"*key+'Continous Eruption')\n",
    "    \n",
    "    # Plotting single eruptions\n",
    "    for key, date in enumerate(single_eruptions):\n",
    "        axs[index_key].axvline(datetime.strptime(date, '%Y-%m-%d'), \n",
    "                               alpha=0.4, color='orange', label =  \"_\"*key + 'Single Eruption')\n",
    "    # Add legend    \n",
    "    axs[index_key].legend(loc='upper right', fontsize='8', ncol=4)\n",
    "    \n",
    "    # Rotate x label\n",
    "    for label in axs[index_key].get_xticklabels(which='major'):\n",
    "        label.set(rotation=30, horizontalalignment='right')\n",
    "        \n",
    "# plt.subplots_adjust(hspace=0)"
   ],
   "outputs": [],
   "execution_count": null
  },
  {
   "cell_type": "code",
   "id": "8fb77681a94a8a06",
   "metadata": {
    "collapsed": false
   },
   "source": [
    "fig.savefig(os.path.join(figures_directory, '{}.png'.format('test_plot')), dpi=300)"
   ],
   "outputs": [],
   "execution_count": null
  }
 ],
 "metadata": {
  "kernelspec": {
   "display_name": "Python 3 (ipykernel)",
   "language": "python",
   "name": "python3"
  },
  "language_info": {
   "codemirror_mode": {
    "name": "ipython",
    "version": 3
   },
   "file_extension": ".py",
   "mimetype": "text/x-python",
   "name": "python",
   "nbconvert_exporter": "python",
   "pygments_lexer": "ipython3",
   "version": "3.10.14"
  }
 },
 "nbformat": 4,
 "nbformat_minor": 5
}
