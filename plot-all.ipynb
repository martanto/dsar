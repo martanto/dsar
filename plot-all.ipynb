{
 "cells": [
  {
   "cell_type": "code",
   "id": "initial_id",
   "metadata": {
    "collapsed": true,
    "ExecuteTime": {
     "end_time": "2024-04-11T14:44:49.828503Z",
     "start_time": "2024-04-11T14:44:48.592463Z"
    }
   },
   "source": [
    "from variables import *\n",
    "import matplotlib.pyplot as plt\n",
    "import matplotlib.dates as mdates"
   ],
   "outputs": [],
   "execution_count": 1
  },
  {
   "metadata": {},
   "cell_type": "markdown",
   "source": "# Plot EQ events, DSAR, and RSAM",
   "id": "d4ff42d63d2a954f"
  },
  {
   "metadata": {
    "ExecuteTime": {
     "end_time": "2024-04-11T14:45:27.679138Z",
     "start_time": "2024-04-11T14:45:27.673516Z"
    }
   },
   "cell_type": "code",
   "source": "magma_df.columns",
   "id": "98246c16f882640",
   "outputs": [
    {
     "data": {
      "text/plain": [
       "Index(['gempa.vulkanik_dalam', 'gempa.vulkanik_dangkal',\n",
       "       'gempa.letusan_erupsi'],\n",
       "      dtype='object')"
      ]
     },
     "execution_count": 6,
     "metadata": {},
     "output_type": "execute_result"
    }
   ],
   "execution_count": 6
  },
  {
   "metadata": {
    "ExecuteTime": {
     "end_time": "2024-04-11T14:45:02.027528Z",
     "start_time": "2024-04-11T14:45:02.023028Z"
    }
   },
   "cell_type": "code",
   "source": "DSAR_dfs.keys()",
   "id": "76ec61d15e5d48e3",
   "outputs": [
    {
     "data": {
      "text/plain": [
       "dict_keys(['VG.PSAG.00.EHZ', 'VG.TMKS.00.EHZ'])"
      ]
     },
     "execution_count": 3,
     "metadata": {},
     "output_type": "execute_result"
    }
   ],
   "execution_count": 3
  },
  {
   "metadata": {
    "ExecuteTime": {
     "end_time": "2024-04-11T14:45:11.672371Z",
     "start_time": "2024-04-11T14:45:11.666785Z"
    }
   },
   "cell_type": "code",
   "source": "RSAM_dfs.keys()",
   "id": "f4cc538eb9b07676",
   "outputs": [
    {
     "data": {
      "text/plain": [
       "dict_keys(['VG.PSAG.00.EHZ', 'VG.TMKS.00.EHZ'])"
      ]
     },
     "execution_count": 4,
     "metadata": {},
     "output_type": "execute_result"
    }
   ],
   "execution_count": 4
  },
  {
   "metadata": {},
   "cell_type": "code",
   "source": [
    "def plot_magma(ax, magma_df: pd.DataFrame, column_name: str):\n",
    "    ax.bar(magma_df.index, magma_df[column_name], width=0.5)\n",
    "    ax.set_ylabel('Count') \n",
    "    ax.xaxis.set_major_locator(mdates.DayLocator(interval=14))\n",
    "    return ax"
   ],
   "id": "aac12f46b6cbed5c",
   "outputs": [],
   "execution_count": null
  },
  {
   "metadata": {},
   "cell_type": "code",
   "source": [
    "def main():\n",
    "    figures = [\n",
    "       {\n",
    "           'name': 'MAGMA Seismic Event',\n",
    "           'dfs': magma_df,\n",
    "           'nrows': len(magma_df.columns),\n",
    "           'ncols': 1,\n",
    "       }, \n",
    "       {\n",
    "           'name': 'DSAR',\n",
    "           'dfs': DSAR_dfs,\n",
    "           'nrows': len(stations),\n",
    "           'ncols': 1,\n",
    "       },\n",
    "       {\n",
    "           'name': 'RSAM',\n",
    "           'dfs': RSAM_dfs,\n",
    "           'nrows': len(stations),\n",
    "           'ncols': 1,\n",
    "       }\n",
    "    ]\n",
    "   \n",
    "   \n",
    "    # Set figures size\n",
    "    fig = plt.figure(layout='constrained', figsize=(12, 18))\n",
    "    \n",
    "    # Set number of sub figures\n",
    "    # We have 3 sub figures which need to plot: EQs, DSAR and RSAM (3 rows and 1 column)\n",
    "    subfigs = fig.subfigures(nrows = 3, ncols = 1)\n",
    "    \n",
    "    # =================================================\n",
    "    # PLOT MAGMA Eq Events\n",
    "    # =================================================\n",
    "    column_names: list[str] = magma_df.columns.to_list()\n",
    "    \n",
    "    figures_magma = subfigs[0].subplots(nrows=len(magma_df.columns), ncols=1, sharex=True)\n",
    "    \n",
    "    for column_name, axs in zip(column_names, figures_magma):\n",
    "        magma_ax = plot_magma(axs, magma_df, column_name)"
   ],
   "id": "53a420689d4caa2b",
   "outputs": [],
   "execution_count": null
  },
  {
   "metadata": {},
   "cell_type": "code",
   "source": "main()",
   "id": "2f7dc66cdd398f48",
   "outputs": [],
   "execution_count": null
  }
 ],
 "metadata": {
  "kernelspec": {
   "display_name": "Python 3",
   "language": "python",
   "name": "python3"
  },
  "language_info": {
   "codemirror_mode": {
    "name": "ipython",
    "version": 2
   },
   "file_extension": ".py",
   "mimetype": "text/x-python",
   "name": "python",
   "nbconvert_exporter": "python",
   "pygments_lexer": "ipython2",
   "version": "2.7.6"
  }
 },
 "nbformat": 4,
 "nbformat_minor": 5
}
